{
 "cells": [
  {
   "cell_type": "markdown",
   "metadata": {},
   "source": []
  },
  {
   "cell_type": "code",
   "execution_count": null,
   "metadata": {},
   "outputs": [],
   "source": [
    "labels, vectors = vsa.sample(5)\n",
    "emp = vsa.empty(2, 10)\n",
    "emp, vectors"
   ]
  },
  {
   "cell_type": "code",
   "execution_count": null,
   "metadata": {},
   "outputs": [],
   "source": [
    "vsa.bind(vectors[0], vectors[1]), vsa.bundle(vectors[0], vectors[1])"
   ]
  },
  {
   "cell_type": "code",
   "execution_count": null,
   "metadata": {},
   "outputs": [],
   "source": [
    "vsa.multibind(vectors), vsa.multiset(vectors, False)"
   ]
  },
  {
   "cell_type": "code",
   "execution_count": null,
   "metadata": {},
   "outputs": [],
   "source": [
    "vsa.similarity(vectors[0], vectors[1])"
   ]
  },
  {
   "cell_type": "code",
   "execution_count": null,
   "metadata": {},
   "outputs": [],
   "source": [
    "import torch\n",
    "weights = torch.tensor([1,2,3,4,-1])\n",
    "torch.matmul(weights.type(torch.LongTensor), vectors.type(torch.LongTensor))\n",
    "# weights * vectors.transpose(-2,-1)"
   ]
  },
  {
   "cell_type": "code",
   "execution_count": null,
   "metadata": {},
   "outputs": [],
   "source": [
    "weights = torch.tensor([[1,2,3,4,-1], [-1,-2,-3, -4, 1]])\n",
    "vectors.unsqueeze(0).repeat(2,1,1)\n",
    "torch.matmul(weights.type(torch.LongTensor), vectors.type(torch.LongTensor))"
   ]
  },
  {
   "cell_type": "code",
   "execution_count": null,
   "metadata": {},
   "outputs": [],
   "source": [
    "from main import algo1, algo2, algo3\n",
    "from vsa.vsa import VSA\n",
    "from vsa.resonator import Resonator\n",
    "import torch\n",
    "import shutil\n",
    "\n",
    "shutil.rmtree(\"tests/testing/\")\n",
    "\n",
    "VSA_MODE = \"HARDWARE\"\n",
    "NUM_VEC_SUPERPOSED = 2\n",
    "ALGO = \"ALGO3\" # ALGO1, ALGO2, ALGO3\n",
    "TRIALS = 20    # for ALGO2\n",
    "DIM = 2000\n",
    "FACTORS = 5\n",
    "CODEVECTORS = 10\n",
    "CODEVECTORS : tuple = (3,3,3,10,2)\n",
    "NOISE_LEVEL = 0.0  # compositional vector noise\n",
    "ITERATIONS = 5000    # max number of iterations for factorization\n",
    "NORMALIZE = True   # for SOFTWARE mode. Normalize the initial estimate and the input vector (when the input is a bundled vector)\n",
    "ACTIVATION = 'EXPO'  # 'NONE', 'ABS', 'NONNEG'\n",
    "RESONATOR_TYPE = \"SEQUENTIAL\" # \"CONCURRENT\", \"SEQUENTIAL\"\n",
    "ARGMAX_ABS = True\n",
    "REORDER_CODEBOOKS = False # True False\n",
    "if VSA_MODE == 'HARDWARE':\n",
    "    NORMALIZE = None\n",
    "BATCH_SIZE = 1\n",
    "\n",
    "vsa = VSA(\n",
    "    root=\"tests/testing/\",\n",
    "    mode=VSA_MODE,\n",
    "    dim=DIM,\n",
    "    num_factors=FACTORS,\n",
    "    num_codevectors=CODEVECTORS,\n",
    "    seed = 0\n",
    ")\n",
    "\n",
    "rn = Resonator(vsa, type=RESONATOR_TYPE, activation=ACTIVATION, iterations=ITERATIONS, argmax_abs=ARGMAX_ABS)\n",
    "ds = VSADataset(\"tests/testing/\", 1, vsa, algo=ALGO, num_vectors_superposed=NUM_VEC_SUPERPOSED, noise=NOISE_LEVEL)\n",
    "# Test sample\n",
    "label = [(0, 2, 1, 1), (1, 2, 1, 5)]\n",
    "# label = [(0, 0, 2, 3), (2, 0, 0, 3)]\n",
    "vector = ds.lookup_algo3(label)\n",
    "\n",
    "labels = [label]\n",
    "vectors = vector.repeat(BATCH_SIZE, 1)\n",
    "\n",
    "codebooks = None\n",
    "orig_indices = None\n",
    "\n",
    "if REORDER_CODEBOOKS:\n",
    "    codebooks, orig_indices = rn.reorder_codebooks(codebooks)\n",
    "\n",
    "init_estimates = rn.get_init_estimates(codebooks, BATCH_SIZE)\n",
    "if NORMALIZE:\n",
    "    init_estimates = vsa.normalize(init_estimates)\n",
    "\n",
    "if (NUM_VEC_SUPERPOSED == 1):\n",
    "    outcome, iter = rn(vectors, init_estimates, codebooks, orig_indices)\n",
    "    # Make them the same format as multi-vector for easier parsing\n",
    "    outcomes = [[outcome[x]] for x in range(BATCH_SIZE)]\n",
    "    convergences = [1 if iter == ITERATIONS-1 else 0] * BATCH_SIZE\n",
    "    iters = [iter] * BATCH_SIZE\n",
    "else:\n",
    "    if ALGO == \"ALGO1\":\n",
    "        outcomes, convergences, iters = algo1(vsa, rn, vectors, init_estimates, codebooks, orig_indices, NORMALIZE)\n",
    "    elif ALGO == \"ALGO2\":\n",
    "        outcomes, convergences, iters = algo2(vsa, rn, vectors, DIM, FACTORS, codebooks, orig_indices, NORMALIZE)\n",
    "    elif ALGO == \"ALGO3\":\n",
    "        outcomes, convergences, iters = algo3(vsa, rn, vectors, NORMALIZE)\n"
   ]
  },
  {
   "cell_type": "code",
   "execution_count": null,
   "metadata": {},
   "outputs": [],
   "source": [
    "print(labels)\n",
    "print(outcomes)\n",
    "print(iters)\n"
   ]
  },
  {
   "cell_type": "code",
   "execution_count": null,
   "metadata": {},
   "outputs": [],
   "source": []
  }
 ],
 "metadata": {
  "kernelspec": {
   "display_name": "Python 3",
   "language": "python",
   "name": "python3"
  },
  "language_info": {
   "codemirror_mode": {
    "name": "ipython",
    "version": 3
   },
   "file_extension": ".py",
   "mimetype": "text/x-python",
   "name": "python",
   "nbconvert_exporter": "python",
   "pygments_lexer": "ipython3",
   "version": "3.8.15"
  },
  "orig_nbformat": 4
 },
 "nbformat": 4,
 "nbformat_minor": 2
}
