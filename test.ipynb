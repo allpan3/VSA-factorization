{
 "cells": [
  {
   "cell_type": "code",
   "execution_count": null,
   "metadata": {},
   "outputs": [],
   "source": [
    "from vsa.vsa import VSA\n",
    "model = \"SOFTWARE\"\n",
    "test_dir = f\"tests/test_{model}\"\n",
    "\n",
    "vsa = VSA(\n",
    "    root=test_dir,\n",
    "    dim=10,\n",
    "    model=model,\n",
    "    num_factors=3,\n",
    "    num_codevectors=3\n",
    ")\n",
    "\n"
   ]
  },
  {
   "cell_type": "markdown",
   "metadata": {},
   "source": []
  },
  {
   "cell_type": "code",
   "execution_count": null,
   "metadata": {},
   "outputs": [],
   "source": [
    "labels, vectors = vsa.sample(5)\n",
    "emp = vsa.empty(2, 10)\n",
    "emp, vectors"
   ]
  },
  {
   "cell_type": "code",
   "execution_count": null,
   "metadata": {},
   "outputs": [],
   "source": [
    "vsa.bind(vectors[0], vectors[1]), vsa.bundle(vectors[0], vectors[1])"
   ]
  },
  {
   "cell_type": "code",
   "execution_count": null,
   "metadata": {},
   "outputs": [],
   "source": [
    "vsa.multibind(vectors), vsa.multiset(vectors, False)"
   ]
  },
  {
   "cell_type": "code",
   "execution_count": null,
   "metadata": {},
   "outputs": [],
   "source": [
    "vsa.similarity(vectors[0], vectors[1])"
   ]
  },
  {
   "cell_type": "code",
   "execution_count": null,
   "metadata": {},
   "outputs": [],
   "source": [
    "import torch\n",
    "weights = torch.tensor([1,2,3,4,-1])\n",
    "torch.matmul(weights.type(torch.LongTensor), vectors.type(torch.LongTensor))\n",
    "# weights * vectors.transpose(-2,-1)"
   ]
  },
  {
   "cell_type": "code",
   "execution_count": null,
   "metadata": {},
   "outputs": [],
   "source": [
    "weights = torch.tensor([[1,2,3,4,-1], [-1,-2,-3, -4, 1]])\n",
    "vectors.unsqueeze(0).repeat(2,1,1)\n",
    "torch.matmul(weights.type(torch.LongTensor), vectors.type(torch.LongTensor))"
   ]
  },
  {
   "cell_type": "code",
   "execution_count": 3,
   "metadata": {},
   "outputs": [
    {
     "name": "stdout",
     "output_type": "stream",
     "text": [
      "Test Passed: Label = [(1, 2, 0, 1)], Outcome = (1, 2, 0, 1)    Convergence: 1\n"
     ]
    }
   ],
   "source": [
    "from main import *\n",
    "from vsa.vsa import VSA\n",
    "\n",
    "VSA_MODEL = 'SOFTWARE' # 'SOFTWARE', 'HARDWARE'\n",
    "\n",
    "# Default values\n",
    "DIM = 2000\n",
    "FACTORS = 4\n",
    "CODEVECTORS = 3\n",
    "# CODEVECTORS : tuple = (3,3,3,10) \n",
    "NOISE_LEVEL = 0.0   # compositional vector noise\n",
    "ITERATIONS = 100    # max number of iterations for factorization\n",
    "NORMALIZE = False    # normalize the initial estimate and the input vector (when the input is a bundled vector)\n",
    "ACTIVATION = 'NONE' # 'NONE', 'ABS', 'NONNEG'\n",
    "RESONATOR_TYPE = \"SEQUENTIAL\" # \"CONCURRENT\", \"SEQUENTIAL\"\n",
    "ARGMAX_ABS = True\n",
    "\n",
    "test_dir = f\"tests/{VSA_MODEL}-{DIM}d-{FACTORS}f-{v_name(CODEVECTORS)}\"\n",
    "\n",
    "vsa = VSA(\n",
    "    root=test_dir,\n",
    "    model=VSA_MODEL,\n",
    "    dim=DIM,\n",
    "    num_factors=FACTORS,\n",
    "    num_codevectors=CODEVECTORS,\n",
    "    seed = 0\n",
    ")\n",
    "\n",
    "resonator_network = Resonator(vsa, type=RESONATOR_TYPE, activation=ACTIVATION, iterations=ITERATIONS, argmax_abs=ARGMAX_ABS)\n",
    "init_estimates = gen_init_estimates(vsa, NORMALIZE, 1)\n",
    "\n",
    "label = [(1, 2, 0, 1)]\n",
    "input = vsa[label]\n",
    "\n",
    "outcomes, convergence = resonator_network(input, init_estimates)\n",
    "outcome = outcomes[0]\n",
    "\n",
    "if (outcome not in label):\n",
    "    print(Fore.RED + f\"Test Failed: \" + f\"Label = {label}, Outcome = {outcome}\" + Fore.RESET + f\"    Convergence: {convergence}\")\n",
    "else:\n",
    "    print(f\"Test Passed: \" + f\"Label = {label}, Outcome = {outcome}    Convergence: {convergence}\")"
   ]
  },
  {
   "cell_type": "code",
   "execution_count": null,
   "metadata": {},
   "outputs": [],
   "source": []
  }
 ],
 "metadata": {
  "kernelspec": {
   "display_name": "Python 3",
   "language": "python",
   "name": "python3"
  },
  "language_info": {
   "codemirror_mode": {
    "name": "ipython",
    "version": 3
   },
   "file_extension": ".py",
   "mimetype": "text/x-python",
   "name": "python",
   "nbconvert_exporter": "python",
   "pygments_lexer": "ipython3",
   "version": "3.8.15"
  },
  "orig_nbformat": 4
 },
 "nbformat": 4,
 "nbformat_minor": 2
}
